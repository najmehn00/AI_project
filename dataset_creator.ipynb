{
  "cells": [
    {
      "cell_type": "code",
      "execution_count": null,
      "metadata": {
        "id": "20CTeA0Jlw9H"
      },
      "outputs": [],
      "source": [
        "# ! pip install kaggle\n",
        "# ! mkdir ~/.kaggle\n",
        "# !cp /content/kaggle.json ~/.kaggle/kaggle.json\n",
        "# ! chmod 600 ~/.kaggle/kaggle.json"
      ]
    },
    {
      "cell_type": "code",
      "execution_count": null,
      "metadata": {
        "id": "uvywAw-EloWu"
      },
      "outputs": [],
      "source": [
        "# !kaggle datasets download -d ishanikathuria/handwritten-signature-datasets\n",
        "# !unzip /content/handwritten-signature-datasets"
      ]
    },
    {
      "cell_type": "code",
      "execution_count": null,
      "metadata": {
        "id": "uJag3Ih5mYHc"
      },
      "outputs": [],
      "source": [
        "import matplotlib.pyplot as plt\n",
        "from PIL import Image\n",
        "\n",
        "# File paths\n",
        "image_paths = [\n",
        "    '/content/CEDAR/CEDAR/1/forgeries_1_1.png',\n",
        "    '/content/CEDAR/CEDAR/1/forgeries_1_10.png',\n",
        "    '/content/CEDAR/CEDAR/1/forgeries_1_6.png',\n",
        "    '/content/CEDAR/CEDAR/1/original_1_1.png',\n",
        "    '/content/CEDAR/CEDAR/1/original_1_10.png',\n",
        "    '/content/CEDAR/CEDAR/1/original_1_4.png',\n",
        "\n",
        "]\n",
        "\n",
        "# Labels\n",
        "labels = [\n",
        "    'forgeries_1_1',\n",
        "    'forgeries_1_10',\n",
        "    'forgeries_1_6',\n",
        "    'original_1_1',\n",
        "    'original_1_10',\n",
        "    'original_1_4',\n",
        "\n",
        "]\n",
        "\n",
        "# Plotting images\n",
        "fig, axes = plt.subplots(1, 6, figsize=(20, 5))\n",
        "for ax, img_path, label in zip(axes, image_paths, labels):\n",
        "    image = Image.open(img_path)\n",
        "    ax.imshow(image, cmap='gray')\n",
        "    ax.set_title(label)\n",
        "    ax.axis('off')\n",
        "\n",
        "plt.tight_layout()\n",
        "plt.show()\n",
        "\n"
      ]
    },
    {
      "cell_type": "code",
      "execution_count": null,
      "metadata": {
        "id": "_Z1ImnvLoP-a"
      },
      "outputs": [],
      "source": [
        "import os\n",
        "\n",
        "def count_folders_in_directory(directory):\n",
        "    folder_count = 0\n",
        "    for entry in os.listdir(directory):\n",
        "        if os.path.isdir(os.path.join(directory, entry)):\n",
        "            folder_count += 1\n",
        "    return folder_count\n",
        "\n",
        "directory_path = '/content/CEDAR/CEDAR/'\n",
        "print(f'Number of folders: {count_folders_in_directory(directory_path)}')\n"
      ]
    },
    {
      "cell_type": "code",
      "execution_count": null,
      "metadata": {
        "id": "sTMq2FtVpnlf"
      },
      "outputs": [],
      "source": [
        "\n",
        "for i in range(1, 56):\n",
        "    input_paths = sorted([\n",
        "            os.path.join(directory_path, fname )\n",
        "            for fname in os.listdir(directory_path)\n",
        "            if os.path.exists(os.path.join(directory_path, fname ))])\n",
        "\n",
        "print(input_paths)\n",
        "input_img_paths = []\n",
        "\n",
        "for path in input_paths:\n",
        "    # Check if the input directory exists\n",
        "    if not os.path.exists(path):\n",
        "        raise ValueError(f\"The directory {path} does not exist\")\n",
        "\n",
        "    # Check the contents of the directory\n",
        "    try:\n",
        "        file_names = os.listdir(path)\n",
        "    except Exception as e:\n",
        "        raise ValueError(f\"Error reading the directory {path}: {e}\")\n",
        "\n",
        "    # Filter and sort valid image paths\n",
        "    input_img_paths.extend([\n",
        "        os.path.join(path, fname)\n",
        "        for fname in file_names\n",
        "        if os.path.exists(os.path.join(path, fname))\n",
        "    ])\n",
        "\n",
        "# Sort the collected paths\n",
        "input_img_paths = sorted(input_img_paths)\n",
        "\n",
        "# Print the results for debugging\n",
        "print(\"Input image paths:\")\n",
        "print(input_img_paths)\n"
      ]
    },
    {
      "cell_type": "code",
      "execution_count": null,
      "metadata": {
        "id": "XcoxpcQIq_i_"
      },
      "outputs": [],
      "source": [
        "import re\n",
        "import csv\n",
        "import random\n",
        "\n",
        "# Define the paths\n",
        "input_paths = '/content/'\n",
        "\n",
        "# Define regular expressions for forged and real data\n",
        "pattern_forged = re.compile(r'forgeries_\\d+_\\d+\\.png', re.IGNORECASE)\n",
        "pattern_real = re.compile(r'original_\\d+_\\d+\\.png', re.IGNORECASE)\n",
        "\n",
        "# Collect all image paths\n",
        "input_img_paths = input_img_paths\n",
        "\n",
        "# Separate forged and real image paths\n",
        "forged_image_paths = [path for path in input_img_paths if pattern_forged.search(os.path.basename(path))]\n",
        "real_image_paths = [path for path in input_img_paths if pattern_real.search(os.path.basename(path))]\n",
        "print(len(forged_image_paths))\n",
        "print(len(real_image_paths))\n",
        "\n",
        "# Ensure there are enough images to select pairs\n",
        "if len(forged_image_paths) < 1320 or len(real_image_paths) < 1320:\n",
        "    raise ValueError(\"Not enough forged or real images to create 1320 pairs.\")\n",
        "\n",
        "# Randomly shuffle the lists to ensure randomness\n",
        "random.shuffle(forged_image_paths)\n",
        "random.shuffle(real_image_paths)\n",
        "\n",
        "# Select 1320 pairs\n",
        "selected_pairs = [\n",
        "    {\"image_path_one\": forged_image_paths[i], \"image_path_two\": real_image_paths[i], \"label\": 1}\n",
        "    for i in range(1320)\n",
        "]\n",
        "\n",
        "\n",
        "# Define the CSV file path\n",
        "csv_file_path = '/content/selected_images.csv'\n",
        "\n",
        "# Write data to CSV\n",
        "with open(csv_file_path, mode='w', newline='') as csv_file:\n",
        "    fieldnames = ['image_path_one', 'image_path_two', 'label']\n",
        "\n",
        "    writer = csv.DictWriter(csv_file, fieldnames=fieldnames)\n",
        "\n",
        "\n",
        "    writer.writeheader()\n",
        "    for data in selected_pairs:\n",
        "        writer.writerow(data)\n",
        "\n",
        "\n",
        "\n",
        "print(f\"Selected images have been saved to {csv_file_path}\")\n",
        "\n",
        "\n",
        "csv_file_path_one = '/content/selected_images_one.csv'\n",
        "\n",
        "selected_pairs_one = [\n",
        "    {\"image_path_one\": real_image_paths[i], \"image_path_two\": real_image_paths[i], \"label\": 0}\n",
        "    for i in range(1320)\n",
        "]\n",
        "\n",
        "with open(csv_file_path_one, mode='w', newline='') as csv_file_one:\n",
        "    fieldnames_one = ['image_path_one', 'image_path_two', 'label']\n",
        "    writer_one = csv.DictWriter(csv_file_one, fieldnames=fieldnames_one)\n",
        "\n",
        "\n",
        "    writer_one.writeheader()\n",
        "    for data in selected_pairs_one:\n",
        "        writer_one.writerow(data)\n",
        "\n",
        "print(f\"Selected images have been saved to {csv_file_path_one}\")\n",
        "\n",
        "\n"
      ]
    },
    {
      "cell_type": "code",
      "execution_count": null,
      "metadata": {
        "id": "I3ipOrXK0mcB"
      },
      "outputs": [],
      "source": [
        "# Define the paths to your CSV files\n",
        "file1_path = '/content/selected_images.csv'\n",
        "file2_path = '/content/selected_images_one.csv'\n",
        "combined_file_path = 'CEDARDATAset.csv'\n",
        "\n",
        "# Read the contents of both CSV files\n",
        "data = []\n",
        "\n",
        "for file_path in [file1_path, file2_path]:\n",
        "    with open(file_path, mode='r') as file:\n",
        "        reader = csv.DictReader(file)\n",
        "        data.extend(list(reader))\n",
        "\n",
        "# Get the fieldnames from the first file (assuming both have the same structure)\n",
        "fieldnames = data[0].keys()\n",
        "\n",
        "# Write the combined data to a new CSV file\n",
        "with open(combined_file_path, mode='w', newline='') as file:\n",
        "    writer = csv.DictWriter(file, fieldnames=fieldnames)\n",
        "\n",
        "    writer.writeheader()\n",
        "    for row in data:\n",
        "        writer.writerow(row)\n",
        "\n",
        "print(f\"Files have been combined and saved to {combined_file_path}\")\n"
      ]
    },
    {
      "cell_type": "code",
      "execution_count": 8,
      "metadata": {
        "colab": {
          "base_uri": "https://localhost:8080/"
        },
        "id": "7vB8F9Oy5vbR",
        "outputId": "5156ee56-5919-48e4-cbe8-87adb57e442d"
      },
      "outputs": [
        {
          "name": "stdout",
          "output_type": "stream",
          "text": [
            "The number of rows in the CSV file is: 2640\n"
          ]
        }
      ],
      "source": [
        "csv_file_path = '/content/CEDARDATAset.csv'\n",
        "\n",
        "with open(csv_file_path, mode='r') as file:\n",
        "    reader = csv.reader(file)\n",
        "    row_count = sum(1 for row in reader)\n",
        "\n",
        "# Subtract 1 if your CSV has a header row\n",
        "row_count -= 1\n",
        "\n",
        "print(f'The number of rows in the CSV file is: {row_count}')\n"
      ]
    }
  ],
  "metadata": {
    "colab": {
      "provenance": []
    },
    "kernelspec": {
      "display_name": "Python 3",
      "name": "python3"
    },
    "language_info": {
      "name": "python"
    }
  },
  "nbformat": 4,
  "nbformat_minor": 0
}
